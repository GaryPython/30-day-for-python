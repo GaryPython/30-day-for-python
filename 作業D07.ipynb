{
  "nbformat": 4,
  "nbformat_minor": 0,
  "metadata": {
    "colab": {
      "name": "作業D07.ipynb",
      "provenance": [],
      "collapsed_sections": [],
      "include_colab_link": true
    },
    "kernelspec": {
      "name": "python3",
      "display_name": "Python 3"
    }
  },
  "cells": [
    {
      "cell_type": "markdown",
      "metadata": {
        "id": "view-in-github",
        "colab_type": "text"
      },
      "source": [
        "<a href=\"https://colab.research.google.com/github/GaryPython/30-day-for-python/blob/main/%E4%BD%9C%E6%A5%ADD07.ipynb\" target=\"_parent\"><img src=\"https://colab.research.google.com/assets/colab-badge.svg\" alt=\"Open In Colab\"/></a>"
      ]
    },
    {
      "cell_type": "code",
      "metadata": {
        "id": "g7_Zhb9Bif-K"
      },
      "source": [
        ""
      ],
      "execution_count": null,
      "outputs": []
    },
    {
      "cell_type": "markdown",
      "metadata": {
        "id": "GLhLqOtlj1fc"
      },
      "source": [
        "作業目標<br>\r\n",
        "活用矩陣運算，實做線性代數<br>\r\n",
        "作業重點<br>\r\n",
        "線性代數公式應用<br>\r\n",
        "矩陣相乘維度需要對好，例如:2X3矩陣乘上3X5矩陣得到2X5矩陣"
      ]
    },
    {
      "cell_type": "markdown",
      "metadata": {
        "id": "Rq6NRNxLj4w1"
      },
      "source": [
        "題目:<br>\r\n",
        "array1 = np.array([[10, 8], [3, 5]]) <br>\r\n",
        "1. 運用上列array計算反矩陣，乘上原矩陣，並觀察是否為單位矩陣?\r\n",
        "2. 運用上列array計算特徵值、特徵向量?\r\n",
        "3. 運用上列array計算SVD?"
      ]
    },
    {
      "cell_type": "code",
      "metadata": {
        "id": "YakNatIPj3CW"
      },
      "source": [
        "import numpy as np"
      ],
      "execution_count": 2,
      "outputs": []
    },
    {
      "cell_type": "code",
      "metadata": {
        "id": "QT4ntMV1kR1c",
        "colab": {
          "base_uri": "https://localhost:8080/"
        },
        "outputId": "7eb032b8-14c9-4b2e-d472-9df3edbcc61c"
      },
      "source": [
        "#1. 運用上列array計算反矩陣，乘上原矩陣，並觀察是否為單位矩陣?\r\n",
        "array1 = np.array([[10, 8], [3, 5]])\r\n",
        "array1"
      ],
      "execution_count": 5,
      "outputs": [
        {
          "output_type": "execute_result",
          "data": {
            "text/plain": [
              "array([[10,  8],\n",
              "       [ 3,  5]])"
            ]
          },
          "metadata": {
            "tags": []
          },
          "execution_count": 5
        }
      ]
    },
    {
      "cell_type": "code",
      "metadata": {
        "id": "pqSSVNjRjpQY"
      },
      "source": [
        "array1_inv = np.linalg.inv(array1)\n",
        "#反矩陣"
      ],
      "execution_count": 22,
      "outputs": []
    },
    {
      "cell_type": "code",
      "metadata": {
        "colab": {
          "base_uri": "https://localhost:8080/"
        },
        "id": "lh008udpgpAa",
        "outputId": "890f56d0-0a33-4faf-dfea-4e94d5288fc5"
      },
      "source": [
        "np.transpose(array1)\n",
        "#轉置"
      ],
      "execution_count": 23,
      "outputs": [
        {
          "output_type": "execute_result",
          "data": {
            "text/plain": [
              "array([[10,  3],\n",
              "       [ 8,  5]])"
            ]
          },
          "metadata": {
            "tags": []
          },
          "execution_count": 23
        }
      ]
    },
    {
      "cell_type": "code",
      "metadata": {
        "colab": {
          "base_uri": "https://localhost:8080/"
        },
        "id": "bVMfbNLnf0Vk",
        "outputId": "241b4ddc-5962-46ee-a3db-9c7287d5b57d"
      },
      "source": [
        "np.dot(array1_inv, array1)"
      ],
      "execution_count": 24,
      "outputs": [
        {
          "output_type": "execute_result",
          "data": {
            "text/plain": [
              "array([[ 1.00000000e+00, -5.55111512e-17],\n",
              "       [-1.11022302e-16,  1.00000000e+00]])"
            ]
          },
          "metadata": {
            "tags": []
          },
          "execution_count": 24
        }
      ]
    },
    {
      "cell_type": "code",
      "metadata": {
        "id": "9f7cVxwwk-y9",
        "colab": {
          "base_uri": "https://localhost:8080/"
        },
        "outputId": "994e11e0-ad0e-4e8b-fb0b-cc661d493bd4"
      },
      "source": [
        "#2. 運用上列array計算特徵值、特徵向量?\n",
        "w, v = np.linalg.eig(array1)\n",
        "print(\"特徵值\",w,\"\\n特徵向量\\n\",v)"
      ],
      "execution_count": 14,
      "outputs": [
        {
          "output_type": "stream",
          "text": [
            "特徵值 [13.  2.] \n",
            "特徵向量\n",
            " [[ 0.93632918 -0.70710678]\n",
            " [ 0.35112344  0.70710678]]\n"
          ],
          "name": "stdout"
        }
      ]
    },
    {
      "cell_type": "code",
      "metadata": {
        "id": "OHSs5etxnL8D"
      },
      "source": [
        "#3. 運用上列array計算SVD?"
      ],
      "execution_count": null,
      "outputs": []
    },
    {
      "cell_type": "code",
      "metadata": {
        "id": "5BaVZFRvpXZo",
        "colab": {
          "base_uri": "https://localhost:8080/"
        },
        "outputId": "cbe87b5f-42fe-441b-c248-1d475880d97e"
      },
      "source": [
        "u, s, vh = np.linalg.svd(array1)\n",
        "print(\"u\\n\",u,\"\\ns\\n\",s,\"\\nvh\\n\",vh)"
      ],
      "execution_count": 19,
      "outputs": [
        {
          "output_type": "stream",
          "text": [
            "u\n",
            " [[-0.91663818 -0.39971796]\n",
            " [-0.39971796  0.91663818]] \n",
            "s\n",
            " [13.94721714  1.86417116] \n",
            "vh\n",
            " [[-0.74319741 -0.6690722 ]\n",
            " [-0.6690722   0.74319741]]\n"
          ],
          "name": "stdout"
        }
      ]
    },
    {
      "cell_type": "code",
      "metadata": {
        "id": "4MRveYJ9iTzG"
      },
      "source": [
        ""
      ],
      "execution_count": null,
      "outputs": []
    }
  ]
}