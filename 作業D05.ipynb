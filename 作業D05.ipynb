{
  "nbformat": 4,
  "nbformat_minor": 0,
  "metadata": {
    "colab": {
      "name": "作業D05.ipynb",
      "provenance": [],
      "collapsed_sections": [],
      "include_colab_link": true
    },
    "kernelspec": {
      "name": "python3",
      "display_name": "Python 3"
    }
  },
  "cells": [
    {
      "cell_type": "markdown",
      "metadata": {
        "id": "view-in-github",
        "colab_type": "text"
      },
      "source": [
        "<a href=\"https://colab.research.google.com/github/GaryPython/30-day-for-python/blob/main/%E4%BD%9C%E6%A5%ADD05.ipynb\" target=\"_parent\"><img src=\"https://colab.research.google.com/assets/colab-badge.svg\" alt=\"Open In Colab\"/></a>"
      ]
    },
    {
      "cell_type": "markdown",
      "metadata": {
        "id": "oef8c2jr-PZY"
      },
      "source": [
        "作業目標<br>\r\n",
        "計算有缺失值的資料，統計量實作<br>\r\n",
        "作業重點<br>\r\n",
        "當遇到缺失值有函式可以處理，不須額外寫程式刪除<br>\r\n",
        "計算統計量時不能出現缺失值"
      ]
    },
    {
      "cell_type": "markdown",
      "metadata": {
        "id": "4YgL8NF4-Ru3"
      },
      "source": [
        "題目:<br>\r\n",
        "english_score = np.array([55,89,76,65,48,70])<br>\r\n",
        "math_score = np.array([60,85,60,68,np.nan,60])<br>\r\n",
        "chinese_score = np.array([65,90,82,72,66,77])<br>\r\n",
        "上3列共六位同學的英文、數學、國文成績，第一個元素代表第一位同學，舉例第一位同學英文55分、數學60分、國文65分，今天第五位同學因某原因沒來考試，導致數學成績缺值，運用上列數據回答下列問題。<br>\r\n",
        "1. 請計算各科成績平均、最大值、最小值、標準差，其中數學缺一筆資料可忽略?\r\n",
        "2. 第五位同學補考數學後成績為55，請計算補考後數學成績平均、最大值、最小值、標準差?\r\n",
        "3. 用補考後資料找出與國文成績相關係數最高的學科?"
      ]
    },
    {
      "cell_type": "code",
      "metadata": {
        "id": "QwsKU8qO-RK7"
      },
      "source": [
        "import numpy as np"
      ],
      "execution_count": 1,
      "outputs": []
    },
    {
      "cell_type": "code",
      "metadata": {
        "id": "B5BqDQAe_czh"
      },
      "source": [
        "english_score = np.array([55,89,76,65,48,70])\r\n",
        "math_score = np.array([60,85,60,68,np.nan,60])\r\n",
        "chinese_score = np.array([65,90,82,72,66,77])"
      ],
      "execution_count": 2,
      "outputs": []
    },
    {
      "cell_type": "code",
      "metadata": {
        "id": "K3tUA6u9aI3N"
      },
      "source": [
        "#1. 請計算各科成績平均、最大值、最小值、標準差，其中數學缺一筆資料可忽略?"
      ],
      "execution_count": 3,
      "outputs": []
    },
    {
      "cell_type": "code",
      "metadata": {
        "id": "h3WY-oElmp-9",
        "colab": {
          "base_uri": "https://localhost:8080/"
        },
        "outputId": "90ff8aeb-61d5-4ed6-f1a9-0b11aed62083"
      },
      "source": [
        "#English\r\n",
        "english_max = np.max(english_score)\r\n",
        "english_min = np.min(english_score)\r\n",
        "english_mean = round(np.mean(english_score))\r\n",
        "english_std = round(np.std(english_score))\r\n",
        "print(\"英文成績最高:{max}\\n英文成績最低:{min}\\n英文平均成績:{mean}\\n英文標準差:{std}\".format(max=english_max, min=english_min, mean=english_mean, std=english_std))\r\n"
      ],
      "execution_count": 4,
      "outputs": [
        {
          "output_type": "stream",
          "text": [
            "英文成績最高:89\n",
            "英文成績最低:48\n",
            "英文平均成績:67\n",
            "英文標準差:13\n"
          ],
          "name": "stdout"
        }
      ]
    },
    {
      "cell_type": "code",
      "metadata": {
        "colab": {
          "base_uri": "https://localhost:8080/"
        },
        "id": "mx8cuBH22e0N",
        "outputId": "fd1994c6-d776-4537-cadc-ebbdcc97da4a"
      },
      "source": [
        "#Math\r\n",
        "math_max = np.nanmax(math_score)\r\n",
        "math_min = np.nanmin(math_score)\r\n",
        "math_mean = round(np.nanmean(math_score))\r\n",
        "math_std = round(np.nanstd(math_score))\r\n",
        "print(\"數學成績最高:{max}\\n數學成績最低:{min}\\n數學平均成績:{mean}\\n數學標準差:{std}\".format(max=math_max, min=math_min, mean=math_mean, std=math_std))\r\n"
      ],
      "execution_count": 5,
      "outputs": [
        {
          "output_type": "stream",
          "text": [
            "數學成績最高:85.0\n",
            "數學成績最低:60.0\n",
            "數學平均成績:67\n",
            "數學標準差:10\n"
          ],
          "name": "stdout"
        }
      ]
    },
    {
      "cell_type": "code",
      "metadata": {
        "colab": {
          "base_uri": "https://localhost:8080/"
        },
        "id": "6rSTxWIL2b22",
        "outputId": "6457ab76-0f49-404a-bca3-a837cce2b250"
      },
      "source": [
        "#Chinese\r\n",
        "chinese_max = np.max(chinese_score)\r\n",
        "chinese_min = np.min(chinese_score)\r\n",
        "chinese_mean = round(np.mean(chinese_score))\r\n",
        "chinese_std = round(np.std(chinese_score))\r\n",
        "print(\"數學成績最高:{max}\\n數學成績最低:{min}\\n數學平均成績:{mean}\\n數學標準差:{std}\".format(max=chinese_max, min=chinese_min, mean=chinese_mean, std=chinese_std))\r\n"
      ],
      "execution_count": 6,
      "outputs": [
        {
          "output_type": "stream",
          "text": [
            "數學成績最高:90\n",
            "數學成績最低:65\n",
            "數學平均成績:75\n",
            "數學標準差:9\n"
          ],
          "name": "stdout"
        }
      ]
    },
    {
      "cell_type": "code",
      "metadata": {
        "id": "mXjDzvSrbLlf",
        "colab": {
          "base_uri": "https://localhost:8080/"
        },
        "outputId": "7d37f196-ac70-48c8-96df-00ce62372607"
      },
      "source": [
        "#2. 第五位同學補考數學後成績為55，請計算補考後數學成績平均、最大值、最小值、標準差?\r\n",
        "math_score[4] = 55\r\n",
        "math_score\r\n",
        "#Math\r\n",
        "remath_max = np.max(math_score)\r\n",
        "remath_min = np.min(math_score)\r\n",
        "remath_mean = round(np.mean(math_score))\r\n",
        "remath_std = round(np.std(math_score))\r\n",
        "print(\"補考後數學成績最高:{max}\\n補考後數學成績最低:{min}\\n補考後數學平均成績:{mean}\\n補考後數學標準差:{std}\".format(max=remath_max, min=remath_min, mean=remath_mean, std=remath_std))\r\n"
      ],
      "execution_count": 7,
      "outputs": [
        {
          "output_type": "stream",
          "text": [
            "補考後數學成績最高:85.0\n",
            "補考後數學成績最低:55.0\n",
            "補考後數學平均成績:65\n",
            "補考後數學標準差:10\n"
          ],
          "name": "stdout"
        }
      ]
    },
    {
      "cell_type": "code",
      "metadata": {
        "id": "SaGolKx0cKoU"
      },
      "source": [
        "#3. 用補考後資料找出與國文成績相關係數最高的學科?"
      ],
      "execution_count": 8,
      "outputs": []
    },
    {
      "cell_type": "code",
      "metadata": {
        "id": "fTNlLZ9Pzyiy",
        "colab": {
          "base_uri": "https://localhost:8080/"
        },
        "outputId": "c4665d1c-f7b7-4ef1-cd6c-dbae462db11e"
      },
      "source": [
        "print(\"國文與數學相關係數\",np.corrcoef(chinese_score,math_score))\n",
        "print(\"國文與英文相關係數\",np.corrcoef(chinese_score,english_score))"
      ],
      "execution_count": 11,
      "outputs": [
        {
          "output_type": "stream",
          "text": [
            "國文與數學相關係數 [[1.         0.74056803]\n",
            " [0.74056803 1.        ]]\n",
            "國文與英文相關係數 [[1.         0.97792828]\n",
            " [0.97792828 1.        ]]\n"
          ],
          "name": "stdout"
        }
      ]
    },
    {
      "cell_type": "code",
      "metadata": {
        "id": "jIn_wFsTraxH"
      },
      "source": [
        ""
      ],
      "execution_count": null,
      "outputs": []
    }
  ]
}