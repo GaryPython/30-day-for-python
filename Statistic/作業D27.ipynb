{
  "nbformat": 4,
  "nbformat_minor": 0,
  "metadata": {
    "colab": {
      "name": "作業D27.ipynb",
      "provenance": [],
      "collapsed_sections": [],
      "include_colab_link": true
    },
    "kernelspec": {
      "display_name": "Python 3",
      "language": "python",
      "name": "python3"
    },
    "language_info": {
      "codemirror_mode": {
        "name": "ipython",
        "version": 3
      },
      "file_extension": ".py",
      "mimetype": "text/x-python",
      "name": "python",
      "nbconvert_exporter": "python",
      "pygments_lexer": "ipython3",
      "version": "3.6.1"
    }
  },
  "cells": [
    {
      "cell_type": "markdown",
      "metadata": {
        "id": "view-in-github",
        "colab_type": "text"
      },
      "source": [
        "<a href=\"https://colab.research.google.com/github/GaryPython/30-day-for-python/blob/main/Statistic/%E4%BD%9C%E6%A5%ADD27.ipynb\" target=\"_parent\"><img src=\"https://colab.research.google.com/assets/colab-badge.svg\" alt=\"Open In Colab\"/></a>"
      ]
    },
    {
      "cell_type": "markdown",
      "metadata": {
        "id": "9QGNkYSeO6lJ"
      },
      "source": [
        "## 作業:\n",
        "今天學到2種分配，包含，   \n",
        "離散均勻分配( Discrete Uniform Distribution )   \n",
        "伯努利分配( Bernoulli Distribution )   \n",
        "\n",
        "今天我們透過作業中的問題，回想今天的內容吧!  "
      ]
    },
    {
      "cell_type": "markdown",
      "metadata": {
        "id": "elne9PwzO6lM"
      },
      "source": [
        "### 丟一個銅板，丟了100次，出現正面 50 次的機率有多大。\n",
        "(提示: 先想是哪一種分配，然後透過 python 語法進行計算)\n"
      ]
    },
    {
      "cell_type": "code",
      "metadata": {
        "id": "hpkvhylETzkS"
      },
      "source": [
        "import matplotlib.pyplot as plt\r\n",
        "import numpy as np\r\n",
        "import pandas as pd\r\n",
        "from scipy import stats\r\n",
        "import math\r\n",
        "import statistics\r\n"
      ],
      "execution_count": 2,
      "outputs": []
    },
    {
      "cell_type": "code",
      "metadata": {
        "colab": {
          "base_uri": "https://localhost:8080/"
        },
        "id": "VoNWoV9TO6lN",
        "outputId": "163a8628-0076-4e1c-dec2-e493f0e11615"
      },
      "source": [
        "'''\n",
        "你的答案 \n",
        "'''\n",
        "#二項分配\n",
        "p = 0.5 \n",
        "n = 100  \n",
        "r = 50\n",
        "probs = stats.binom.pmf(r, n, p)\n",
        "probs"
      ],
      "execution_count": 5,
      "outputs": [
        {
          "output_type": "execute_result",
          "data": {
            "text/plain": [
              "0.07958923738717888"
            ]
          },
          "metadata": {
            "tags": []
          },
          "execution_count": 5
        }
      ]
    },
    {
      "cell_type": "code",
      "metadata": {
        "id": "uBETU48OTwgs"
      },
      "source": [
        ""
      ],
      "execution_count": null,
      "outputs": []
    }
  ]
}